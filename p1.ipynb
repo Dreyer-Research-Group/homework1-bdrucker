{
 "cells": [
  {
   "cell_type": "markdown",
   "id": "abc82c31-40ba-4ace-8e3e-9ea6e3207d4b",
   "metadata": {},
   "source": [
    "Markdown macros:\n",
    "$$\n",
    "\\newcommand{\\abs}[1]{\\left| #1 \\right|}\n",
    "\\newcommand{\\fun}[2]{#1 \\! \\left( #2 \\right)}\n",
    "$$"
   ]
  },
  {
   "cell_type": "markdown",
   "id": "827c2ffb-0811-4351-87b8-88d6d9eccade",
   "metadata": {},
   "source": [
    "# (a)"
   ]
  },
  {
   "cell_type": "markdown",
   "id": "42bd25da-c378-4866-a1e4-87c4404046a4",
   "metadata": {},
   "source": [
    "Denote the two roots by $x_{\\pm}$:\n",
    "\\begin{align*}\n",
    "x_{\\pm}\n",
    "&:=\n",
    "\\frac{-b \\pm \\sqrt{\\Delta}}{2 a},\n",
    "\\end{align*}\n",
    "where the discriminant is\n",
    "\\begin{align*}\n",
    "\\Delta\n",
    "&:=\n",
    "b^{2} - 4 a c.\n",
    "\\end{align*}"
   ]
  },
  {
   "cell_type": "markdown",
   "id": "da27ea2b-39a2-49b9-964d-fe74ebe2fd4d",
   "metadata": {},
   "source": [
    "If $\\abs{b} \\gg \\abs{a}, \\abs{c}$, then\n",
    "\\begin{align*}\n",
    "\\sqrt{\\Delta}\n",
    "&=\n",
    "\\abs{b} \\sqrt{1 - \\frac{4 a c}{b^{2}}}\n",
    "\\\\\n",
    "&=\n",
    "\\abs{b} \\left(1 - \\frac{1}{2} \\frac{4 a c}{b^{2}} + \\fun{O}{\\frac{a^{2} c^{2}}{b^{4}}}\\right)\n",
    "\\\\\n",
    "&=\n",
    "\\abs{b} - \\frac{2 a c}{\\abs{b}} + \\fun{O}{\\frac{a^{2} c^{2}}{b^{3}}}.\n",
    "\\end{align*}\n",
    "Thus, one of the roots suffers from catastrophic cancellation and most of the digits are lost."
   ]
  },
  {
   "cell_type": "markdown",
   "id": "e9004b02-a9e3-452a-8a4b-a2489f9f05f0",
   "metadata": {},
   "source": [
    "If $b > 0$, then $x_{+}$ is the \"bad\" root:\n",
    "\\begin{align*}\n",
    "-b + \\sqrt{\\Delta}\n",
    "&\\approx\n",
    "-b + \\left(b - \\frac{2 a c}{b}\\right)\n",
    "\\\\\n",
    "&=\n",
    "-\\frac{2 a c}{b},\n",
    "\\end{align*}\n",
    "while $x_{-}$ is safe:\n",
    "\\begin{align*}\n",
    "-b - \\sqrt{\\Delta}\n",
    "&\\approx\n",
    "-b - \\left(b - \\frac{2 a c}{b}\\right)\n",
    "\\\\\n",
    "&=\n",
    "-2 b + \\frac{2 a c}{b}.\n",
    "\\end{align*}\n",
    "If $b < 0$, then $x_{-}$ is the bad root:\n",
    "\\begin{align*}\n",
    "-b - \\sqrt{\\Delta}\n",
    "&\\approx\n",
    "-b - \\left(-b + \\frac{2 a c}{b}\\right)\n",
    "\\\\\n",
    "&=\n",
    "-\\frac{2 a c}{b},\n",
    "\\end{align*}\n",
    "while $x_{+}$ is safe:\n",
    "\\begin{align*}\n",
    "-b + \\sqrt{\\Delta}\n",
    "&\\approx\n",
    "-b + \\left(-b + \\frac{2 a c}{b}\\right)\n",
    "\\\\\n",
    "&=\n",
    "-2 b + \\frac{2 a c}{b}.\n",
    "\\end{align*}\n",
    "Either way, the bad numerator is $-2 a c / b$."
   ]
  },
  {
   "cell_type": "markdown",
   "id": "9b039fe6-6e67-4e75-abad-58ee8fc072ba",
   "metadata": {},
   "source": [
    "To be precise, the condition number for summation $\\left(x_1, \\ldots, x_n\\right) \\mapsto \\sum_{i = 1}^{n} x_{i}$ is\n",
    "\\begin{align*}\n",
    "\\fun{\\kappa_{\\text{sum}}}{x_{1}, \\ldots, x_{n}}\n",
    "&=\n",
    "\\frac{\\sum_{i} \\abs{x_{i}}}{\\abs{\\sum_{i} x_{i}}}.\n",
    "\\end{align*}\n",
    "For our case,\n",
    "\\begin{align*}\n",
    "\\kappa\n",
    "&=\n",
    "\\frac{\\abs{-b} + \\abs{\\sqrt{\\Delta}}}{\\abs{-b \\pm \\sqrt{\\Delta}}}.\n",
    "\\end{align*}\n",
    "$\\abs{\\sqrt{\\Delta}} \\approx \\abs{b}$,\n",
    "and $-b \\pm \\sqrt{\\Delta} \\approx -2 a c / b$ for the bad roots. Thus,\n",
    "\\begin{align*}\n",
    "\\kappa\n",
    "&\\approx\n",
    "\\frac{b^{2}}{\\abs{a c}} \\gg 1.\n",
    "\\end{align*}\n",
    "Therefore, any small relative input error is magnified by the large factor of $b^{2} / \\abs{a c}$."
   ]
  },
  {
   "cell_type": "markdown",
   "id": "62884383-167e-4ac9-98da-40a2e261a423",
   "metadata": {},
   "source": [
    "# (b)"
   ]
  },
  {
   "cell_type": "markdown",
   "id": "d927efff-acc3-46f7-b430-ff0cbe347770",
   "metadata": {},
   "source": [
    "We can stabilize the bad root by rationalization:\n",
    "\\begin{align*}\n",
    "x_{\\pm}\n",
    "&=\n",
    "\\frac{-b \\pm \\sqrt{\\Delta}}{2 a} \\cdot \\frac{-b \\mp \\sqrt{\\Delta}}{-b \\mp \\sqrt{\\Delta}}\n",
    "\\\\\n",
    "&=\n",
    "\\frac{b^{2} - \\Delta}{2 a \\left(-b \\mp \\sqrt{\\Delta}\\right)}\n",
    "\\\\\n",
    "&=\n",
    "\\frac{4 a c}{2 a \\left(-b \\mp \\sqrt{\\Delta}\\right)}\n",
    "\\\\\n",
    "&=\n",
    "\\frac{2 c}{-b \\mp \\sqrt{\\Delta}}\n",
    "\\end{align*}"
   ]
  },
  {
   "cell_type": "markdown",
   "id": "3eca77a4-888b-4407-acb6-201ec1fb25c8",
   "metadata": {},
   "source": [
    "If $b > 0$, then we should compute $x_{+}$ this way; if $b < 0$, then we should compute $x_{-}$ this way. The exact prescription (for $b \\neq 0$) is the following:\n",
    "\n",
    "1. Compute\n",
    "\\begin{align*}\n",
    "q\n",
    "&:=\n",
    "-\\frac{1}{2} \\left(b + \\fun{\\mathrm{sign}}{b} \\sqrt{\\Delta}\\right),\n",
    "\\end{align*}\n",
    "which does not suffer from catastrophic cancellation.\n",
    "2. Return the roots $q / a$ and $c / q$."
   ]
  },
  {
   "cell_type": "code",
   "execution_count": null,
   "id": "fb6ef0db-8841-4522-a05d-dbfe48c1029b",
   "metadata": {},
   "outputs": [],
   "source": []
  }
 ],
 "metadata": {
  "kernelspec": {
   "display_name": "Python (PHY604)",
   "language": "python",
   "name": "phy604"
  },
  "language_info": {
   "codemirror_mode": {
    "name": "ipython",
    "version": 3
   },
   "file_extension": ".py",
   "mimetype": "text/x-python",
   "name": "python",
   "nbconvert_exporter": "python",
   "pygments_lexer": "ipython3",
   "version": "3.13.7"
  }
 },
 "nbformat": 4,
 "nbformat_minor": 5
}
